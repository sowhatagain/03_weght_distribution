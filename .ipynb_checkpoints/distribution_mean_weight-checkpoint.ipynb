{
 "cells": [
  {
   "cell_type": "code",
   "execution_count": 58,
   "metadata": {
    "collapsed": true
   },
   "outputs": [],
   "source": [
    "import numpy as np\n",
    "import pandas as pd\n",
    "import scipy.stats as stats\n",
    "import matplotlib.pyplot as plt"
   ]
  },
  {
   "cell_type": "code",
   "execution_count": 59,
   "metadata": {
    "collapsed": true
   },
   "outputs": [],
   "source": [
    "data = pd.read_csv( 'hw_25000.csv', names = ['index', 'height_inches', 'weight_pounds'], header = 0 ) # подгружаем"
   ]
  },
  {
   "cell_type": "code",
   "execution_count": 60,
   "metadata": {
    "collapsed": true
   },
   "outputs": [],
   "source": [
    "#data.head()"
   ]
  },
  {
   "cell_type": "code",
   "execution_count": 61,
   "metadata": {
    "collapsed": true
   },
   "outputs": [],
   "source": [
    "data['height'] = data['height_inches']*2.54  # рост в см"
   ]
  },
  {
   "cell_type": "code",
   "execution_count": 62,
   "metadata": {
    "collapsed": true
   },
   "outputs": [],
   "source": [
    "data['weight'] = data['weight_pounds']*0.4536 # вес в кг"
   ]
  },
  {
   "cell_type": "code",
   "execution_count": 63,
   "metadata": {},
   "outputs": [
    {
     "name": "stdout",
     "output_type": "stream",
     "text": [
      "<class 'pandas.core.frame.DataFrame'>\n",
      "RangeIndex: 25000 entries, 0 to 24999\n",
      "Data columns (total 5 columns):\n",
      "index            25000 non-null int64\n",
      "height_inches    25000 non-null float64\n",
      "weight_pounds    25000 non-null float64\n",
      "height           25000 non-null float64\n",
      "weight           25000 non-null float64\n",
      "dtypes: float64(4), int64(1)\n",
      "memory usage: 976.6 KB\n"
     ]
    },
    {
     "data": {
      "text/html": [
       "<div>\n",
       "<style>\n",
       "    .dataframe thead tr:only-child th {\n",
       "        text-align: right;\n",
       "    }\n",
       "\n",
       "    .dataframe thead th {\n",
       "        text-align: left;\n",
       "    }\n",
       "\n",
       "    .dataframe tbody tr th {\n",
       "        vertical-align: top;\n",
       "    }\n",
       "</style>\n",
       "<table border=\"1\" class=\"dataframe\">\n",
       "  <thead>\n",
       "    <tr style=\"text-align: right;\">\n",
       "      <th></th>\n",
       "      <th>index</th>\n",
       "      <th>height_inches</th>\n",
       "      <th>weight_pounds</th>\n",
       "      <th>height</th>\n",
       "      <th>weight</th>\n",
       "    </tr>\n",
       "  </thead>\n",
       "  <tbody>\n",
       "    <tr>\n",
       "      <th>count</th>\n",
       "      <td>25000.000000</td>\n",
       "      <td>25000.000000</td>\n",
       "      <td>25000.000000</td>\n",
       "      <td>25000.000000</td>\n",
       "      <td>25000.000000</td>\n",
       "    </tr>\n",
       "    <tr>\n",
       "      <th>mean</th>\n",
       "      <td>12500.500000</td>\n",
       "      <td>67.993114</td>\n",
       "      <td>127.079421</td>\n",
       "      <td>172.702509</td>\n",
       "      <td>57.643225</td>\n",
       "    </tr>\n",
       "    <tr>\n",
       "      <th>std</th>\n",
       "      <td>7217.022701</td>\n",
       "      <td>1.901679</td>\n",
       "      <td>11.660898</td>\n",
       "      <td>4.830264</td>\n",
       "      <td>5.289383</td>\n",
       "    </tr>\n",
       "    <tr>\n",
       "      <th>min</th>\n",
       "      <td>1.000000</td>\n",
       "      <td>60.278360</td>\n",
       "      <td>78.014760</td>\n",
       "      <td>153.107034</td>\n",
       "      <td>35.387495</td>\n",
       "    </tr>\n",
       "    <tr>\n",
       "      <th>25%</th>\n",
       "      <td>6250.750000</td>\n",
       "      <td>66.704397</td>\n",
       "      <td>119.308675</td>\n",
       "      <td>169.429170</td>\n",
       "      <td>54.118415</td>\n",
       "    </tr>\n",
       "    <tr>\n",
       "      <th>50%</th>\n",
       "      <td>12500.500000</td>\n",
       "      <td>67.995700</td>\n",
       "      <td>127.157750</td>\n",
       "      <td>172.709078</td>\n",
       "      <td>57.678755</td>\n",
       "    </tr>\n",
       "    <tr>\n",
       "      <th>75%</th>\n",
       "      <td>18750.250000</td>\n",
       "      <td>69.272958</td>\n",
       "      <td>134.892850</td>\n",
       "      <td>175.953312</td>\n",
       "      <td>61.187397</td>\n",
       "    </tr>\n",
       "    <tr>\n",
       "      <th>max</th>\n",
       "      <td>25000.000000</td>\n",
       "      <td>75.152800</td>\n",
       "      <td>170.924000</td>\n",
       "      <td>190.888112</td>\n",
       "      <td>77.531126</td>\n",
       "    </tr>\n",
       "  </tbody>\n",
       "</table>\n",
       "</div>"
      ],
      "text/plain": [
       "              index  height_inches  weight_pounds        height        weight\n",
       "count  25000.000000   25000.000000   25000.000000  25000.000000  25000.000000\n",
       "mean   12500.500000      67.993114     127.079421    172.702509     57.643225\n",
       "std     7217.022701       1.901679      11.660898      4.830264      5.289383\n",
       "min        1.000000      60.278360      78.014760    153.107034     35.387495\n",
       "25%     6250.750000      66.704397     119.308675    169.429170     54.118415\n",
       "50%    12500.500000      67.995700     127.157750    172.709078     57.678755\n",
       "75%    18750.250000      69.272958     134.892850    175.953312     61.187397\n",
       "max    25000.000000      75.152800     170.924000    190.888112     77.531126"
      ]
     },
     "execution_count": 63,
     "metadata": {},
     "output_type": "execute_result"
    }
   ],
   "source": [
    "data.info()  \n",
    "data.describe() # данные ок"
   ]
  },
  {
   "cell_type": "code",
   "execution_count": 64,
   "metadata": {},
   "outputs": [
    {
     "data": {
      "image/png": "[encoded data removed]",
      "text/plain": [
       "<matplotlib.figure.Figure at 0x27f7e0289b0>"
      ]
     },
     "metadata": {},
     "output_type": "display_data"
    }
   ],
   "source": [
    "stats.probplot( data['height'], dist=\"norm\", plot=plt )\n",
    "plt.show()"
   ]
  },
  {
   "cell_type": "code",
   "execution_count": 65,
   "metadata": {},
   "outputs": [
    {
     "data": {
      "image/png": "[encoded data removed]",
      "text/plain": [
       "<matplotlib.figure.Figure at 0x27f7de8d780>"
      ]
     },
     "metadata": {},
     "output_type": "display_data"
    }
   ],
   "source": [
    "stats.probplot( data['weight'], dist=\"norm\", plot=plt )\n",
    "plt.show()"
   ]
  },
  {
   "cell_type": "code",
   "execution_count": 66,
   "metadata": {
    "collapsed": true
   },
   "outputs": [],
   "source": [
    "# можем работать как с нормальными распределениями"
   ]
  },
  {
   "cell_type": "code",
   "execution_count": 67,
   "metadata": {
    "collapsed": true
   },
   "outputs": [],
   "source": [
    "sample = data[['height','weight']]"
   ]
  },
  {
   "cell_type": "code",
   "execution_count": 18,
   "metadata": {
    "collapsed": true
   },
   "outputs": [],
   "source": [
    "mask = ( (data.height >= 170)  & (data.height < 180)) # выборка по росту от 170 до 180 см"
   ]
  },
  {
   "cell_type": "code",
   "execution_count": 19,
   "metadata": {
    "collapsed": true
   },
   "outputs": [],
   "source": [
    "sample_170_180 = sample.loc[mask]"
   ]
  },
  {
   "cell_type": "code",
   "execution_count": 20,
   "metadata": {},
   "outputs": [
    {
     "name": "stdout",
     "output_type": "stream",
     "text": [
      "<class 'pandas.core.frame.DataFrame'>\n",
      "Int64Index: 16141 entries, 2 to 24999\n",
      "Data columns (total 2 columns):\n",
      "height    16141 non-null float64\n",
      "weight    16141 non-null float64\n",
      "dtypes: float64(2)\n",
      "memory usage: 378.3 KB\n"
     ]
    }
   ],
   "source": [
    "sample_170_180.info()"
   ]
  },
  {
   "cell_type": "code",
   "execution_count": 21,
   "metadata": {},
   "outputs": [
    {
     "data": {
      "text/html": [
       "<div>\n",
       "<style>\n",
       "    .dataframe thead tr:only-child th {\n",
       "        text-align: right;\n",
       "    }\n",
       "\n",
       "    .dataframe thead th {\n",
       "        text-align: left;\n",
       "    }\n",
       "\n",
       "    .dataframe tbody tr th {\n",
       "        vertical-align: top;\n",
       "    }\n",
       "</style>\n",
       "<table border=\"1\" class=\"dataframe\">\n",
       "  <thead>\n",
       "    <tr style=\"text-align: right;\">\n",
       "      <th></th>\n",
       "      <th>height</th>\n",
       "      <th>weight</th>\n",
       "    </tr>\n",
       "  </thead>\n",
       "  <tbody>\n",
       "    <tr>\n",
       "      <th>count</th>\n",
       "      <td>16141.000000</td>\n",
       "      <td>16141.000000</td>\n",
       "    </tr>\n",
       "    <tr>\n",
       "      <th>mean</th>\n",
       "      <td>174.309435</td>\n",
       "      <td>58.518607</td>\n",
       "    </tr>\n",
       "    <tr>\n",
       "      <th>std</th>\n",
       "      <td>2.633048</td>\n",
       "      <td>4.802546</td>\n",
       "    </tr>\n",
       "    <tr>\n",
       "      <th>min</th>\n",
       "      <td>170.000574</td>\n",
       "      <td>41.068921</td>\n",
       "    </tr>\n",
       "    <tr>\n",
       "      <th>25%</th>\n",
       "      <td>172.111721</td>\n",
       "      <td>55.301460</td>\n",
       "    </tr>\n",
       "    <tr>\n",
       "      <th>50%</th>\n",
       "      <td>174.084158</td>\n",
       "      <td>58.523926</td>\n",
       "    </tr>\n",
       "    <tr>\n",
       "      <th>75%</th>\n",
       "      <td>176.322126</td>\n",
       "      <td>61.702301</td>\n",
       "    </tr>\n",
       "    <tr>\n",
       "      <th>max</th>\n",
       "      <td>179.999869</td>\n",
       "      <td>77.531126</td>\n",
       "    </tr>\n",
       "  </tbody>\n",
       "</table>\n",
       "</div>"
      ],
      "text/plain": [
       "             height        weight\n",
       "count  16141.000000  16141.000000\n",
       "mean     174.309435     58.518607\n",
       "std        2.633048      4.802546\n",
       "min      170.000574     41.068921\n",
       "25%      172.111721     55.301460\n",
       "50%      174.084158     58.523926\n",
       "75%      176.322126     61.702301\n",
       "max      179.999869     77.531126"
      ]
     },
     "execution_count": 21,
     "metadata": {},
     "output_type": "execute_result"
    }
   ],
   "source": [
    "sample_170_180.describe() # выборка сформирована правильно"
   ]
  },
  {
   "cell_type": "code",
   "execution_count": 23,
   "metadata": {},
   "outputs": [
    {
     "data": {
      "image/png": "[encoded data removed]",
      "text/plain": [
       "<matplotlib.figure.Figure at 0x27f7c0886d8>"
      ]
     },
     "metadata": {},
     "output_type": "display_data"
    }
   ],
   "source": [
    "stats.probplot( sample_170_180['weight'], dist=\"norm\", plot=plt )\n",
    "plt.show()\n",
    "# выборка следует нормальному распределению, можем исследовать его в этом диапазоне"
   ]
  },
  {
   "cell_type": "code",
   "execution_count": 24,
   "metadata": {},
   "outputs": [
    {
     "data": {
      "text/html": [
       "<div>\n",
       "<style>\n",
       "    .dataframe thead tr:only-child th {\n",
       "        text-align: right;\n",
       "    }\n",
       "\n",
       "    .dataframe thead th {\n",
       "        text-align: left;\n",
       "    }\n",
       "\n",
       "    .dataframe tbody tr th {\n",
       "        vertical-align: top;\n",
       "    }\n",
       "</style>\n",
       "<table border=\"1\" class=\"dataframe\">\n",
       "  <thead>\n",
       "    <tr style=\"text-align: right;\">\n",
       "      <th></th>\n",
       "      <th>height</th>\n",
       "      <th>weight</th>\n",
       "    </tr>\n",
       "  </thead>\n",
       "  <tbody>\n",
       "    <tr>\n",
       "      <th>2</th>\n",
       "      <td>176.272800</td>\n",
       "      <td>69.413002</td>\n",
       "    </tr>\n",
       "    <tr>\n",
       "      <th>3</th>\n",
       "      <td>173.270164</td>\n",
       "      <td>64.563337</td>\n",
       "    </tr>\n",
       "    <tr>\n",
       "      <th>4</th>\n",
       "      <td>172.181037</td>\n",
       "      <td>65.453165</td>\n",
       "    </tr>\n",
       "    <tr>\n",
       "      <th>5</th>\n",
       "      <td>174.492514</td>\n",
       "      <td>55.929969</td>\n",
       "    </tr>\n",
       "    <tr>\n",
       "      <th>6</th>\n",
       "      <td>177.297182</td>\n",
       "      <td>64.181996</td>\n",
       "    </tr>\n",
       "  </tbody>\n",
       "</table>\n",
       "</div>"
      ],
      "text/plain": [
       "       height     weight\n",
       "2  176.272800  69.413002\n",
       "3  173.270164  64.563337\n",
       "4  172.181037  65.453165\n",
       "5  174.492514  55.929969\n",
       "6  177.297182  64.181996"
      ]
     },
     "execution_count": 24,
     "metadata": {},
     "output_type": "execute_result"
    }
   ],
   "source": [
    "sample_170_180.head() # wrong indexing"
   ]
  },
  {
   "cell_type": "code",
   "execution_count": 25,
   "metadata": {
    "collapsed": true
   },
   "outputs": [],
   "source": [
    "sample_170_180 = sample_170_180.reset_index(drop = True)\n",
    "#sample_170_180.head(3)"
   ]
  },
  {
   "cell_type": "code",
   "execution_count": 27,
   "metadata": {},
   "outputs": [
    {
     "data": {
      "image/png": "[encoded data removed]",
      "text/plain": [
       "<matplotlib.figure.Figure at 0x27f7dc29f60>"
      ]
     },
     "metadata": {},
     "output_type": "display_data"
    }
   ],
   "source": [
    "# из выборки берем 20 рандомных строк\n",
    "sample_170_180_get_20_rand = sample_170_180.loc[[np.random.randint(len(sample_170_180)) for i in range(20)]]\n",
    "stats.probplot( sample_170_180_get_20_rand['weight'], dist=\"norm\", plot=plt )\n",
    "plt.show()\n",
    "\n",
    "#sample_170_180_get_20_rand.info()\n",
    "#sample_170_180_get_20_rand.head()\n",
    "# более-менее подчиняются нормальному рапределению"
   ]
  },
  {
   "cell_type": "code",
   "execution_count": 31,
   "metadata": {},
   "outputs": [
    {
     "data": {
      "text/plain": [
       "[62.718591599999996,\n",
       " 57.733799760000004,\n",
       " 59.27640264,\n",
       " 66.25952928000001,\n",
       " 55.619434080000005,\n",
       " 57.03203520000001,\n",
       " 57.884440319999996,\n",
       " 60.911403840000006,\n",
       " 61.55755704,\n",
       " 56.91541464,\n",
       " 58.51907208,\n",
       " 54.0822744,\n",
       " 47.72330136,\n",
       " 65.51603352,\n",
       " 54.3077136,\n",
       " 61.715772720000004,\n",
       " 62.43804,\n",
       " 63.81008928,\n",
       " 55.8020988,\n",
       " 58.07345544]"
      ]
     },
     "execution_count": 31,
     "metadata": {},
     "output_type": "execute_result"
    }
   ],
   "source": [
    "# 1ый способ выбора 20 строк рандомно\n",
    "sample_1_rand = sample_170_180_get_20_rand['weight'].tolist()\n",
    "sample_1_rand\n"
   ]
  },
  {
   "cell_type": "code",
   "execution_count": 39,
   "metadata": {},
   "outputs": [
    {
     "data": {
      "image/png": "[encoded data removed]",
      "text/plain": [
       "<matplotlib.figure.Figure at 0x27f7df6d898>"
      ]
     },
     "metadata": {},
     "output_type": "display_data"
    },
    {
     "data": {
      "text/html": [
       "<div>\n",
       "<style>\n",
       "    .dataframe thead tr:only-child th {\n",
       "        text-align: right;\n",
       "    }\n",
       "\n",
       "    .dataframe thead th {\n",
       "        text-align: left;\n",
       "    }\n",
       "\n",
       "    .dataframe tbody tr th {\n",
       "        vertical-align: top;\n",
       "    }\n",
       "</style>\n",
       "<table border=\"1\" class=\"dataframe\">\n",
       "  <thead>\n",
       "    <tr style=\"text-align: right;\">\n",
       "      <th></th>\n",
       "      <th>height</th>\n",
       "      <th>weight</th>\n",
       "    </tr>\n",
       "  </thead>\n",
       "  <tbody>\n",
       "    <tr>\n",
       "      <th>count</th>\n",
       "      <td>16141.000000</td>\n",
       "      <td>16141.000000</td>\n",
       "    </tr>\n",
       "    <tr>\n",
       "      <th>mean</th>\n",
       "      <td>174.309435</td>\n",
       "      <td>58.518607</td>\n",
       "    </tr>\n",
       "    <tr>\n",
       "      <th>std</th>\n",
       "      <td>2.633048</td>\n",
       "      <td>4.802546</td>\n",
       "    </tr>\n",
       "    <tr>\n",
       "      <th>min</th>\n",
       "      <td>170.000574</td>\n",
       "      <td>41.068921</td>\n",
       "    </tr>\n",
       "    <tr>\n",
       "      <th>25%</th>\n",
       "      <td>172.111721</td>\n",
       "      <td>55.301460</td>\n",
       "    </tr>\n",
       "    <tr>\n",
       "      <th>50%</th>\n",
       "      <td>174.084158</td>\n",
       "      <td>58.523926</td>\n",
       "    </tr>\n",
       "    <tr>\n",
       "      <th>75%</th>\n",
       "      <td>176.322126</td>\n",
       "      <td>61.702301</td>\n",
       "    </tr>\n",
       "    <tr>\n",
       "      <th>max</th>\n",
       "      <td>179.999869</td>\n",
       "      <td>77.531126</td>\n",
       "    </tr>\n",
       "  </tbody>\n",
       "</table>\n",
       "</div>"
      ],
      "text/plain": [
       "             height        weight\n",
       "count  16141.000000  16141.000000\n",
       "mean     174.309435     58.518607\n",
       "std        2.633048      4.802546\n",
       "min      170.000574     41.068921\n",
       "25%      172.111721     55.301460\n",
       "50%      174.084158     58.523926\n",
       "75%      176.322126     61.702301\n",
       "max      179.999869     77.531126"
      ]
     },
     "execution_count": 39,
     "metadata": {},
     "output_type": "execute_result"
    }
   ],
   "source": [
    "# 2ой способ выбора 20-ти строк из начала\n",
    "sample_2_head = sample_170_180['weight'].head(20).tolist()\n",
    "sample_2_head\n",
    "stats.probplot( sample_170_180_get_20_rand['weight'], dist=\"norm\", plot=plt )\n",
    "plt.show()\n",
    "# один из выбросов в начале \"портит\" картину нормального распределения\n"
   ]
  },
  {
   "cell_type": "code",
   "execution_count": 33,
   "metadata": {},
   "outputs": [
    {
     "name": "stdout",
     "output_type": "stream",
     "text": [
      "57.64322543853901\n",
      "58.89482298\n",
      "60.294376296\n"
     ]
    }
   ],
   "source": [
    "# средний вес по основной выборке\n",
    "print(data['weight'].mean())\n",
    "print(np.mean(sample_1_rand))\n",
    "print(np.mean(sample_2_head))"
   ]
  },
  {
   "cell_type": "code",
   "execution_count": 34,
   "metadata": {},
   "outputs": [
    {
     "data": {
      "text/plain": [
       "Ttest_1sampResult(statistic=1.2708982065180809, pvalue=0.21910542585181939)"
      ]
     },
     "execution_count": 34,
     "metadata": {},
     "output_type": "execute_result"
    }
   ],
   "source": [
    "# t-test на первой выборке random\n",
    "stats.ttest_1samp( sample_1_rand, data['weight'].mean())"
   ]
  },
  {
   "cell_type": "code",
   "execution_count": 37,
   "metadata": {},
   "outputs": [
    {
     "data": {
      "text/plain": [
       "Ttest_1sampResult(statistic=2.2438433326708838, pvalue=0.036952752151289139)"
      ]
     },
     "execution_count": 37,
     "metadata": {},
     "output_type": "execute_result"
    }
   ],
   "source": [
    "# t-test на второй выборке из head\n",
    "stats.ttest_1samp(sample_2_head, data['weight'].mean())"
   ]
  },
  {
   "cell_type": "markdown",
   "metadata": {},
   "source": [
    "Некоторые размышления:\n",
    "\n",
    "Уровень значимости примем равным p<0.05\n",
    "\n",
    "Ho гипотеза: средний вес по выборке,сформированной случаным образом для людей ростом от 170 до 180 см, совпадает со средним весом людей генеральной совокупности (\"условной\", приняли, что начальная выборка обладает правильными данными о популяции).\n",
    "\n",
    "H1 гипотеза: выборка весов 20 случайных людей с ростом от 170 до 180 см отличается от веса людей ген. совокупности. И это разные по кач-вам выборки.\n",
    "\n",
    "1) По выборке, сформированной случайным выбором двадцати человек ростом от 170 до 180 см, проверяли Ho гипотезу одновыборочным t-критерием. Получили p>0.05. В этом случае считаем, что выборочное среднее равно среднему общей совокупности. Разница в среднем весе статистически незначима.\n",
    "\n",
    "2) Выборка, сформированная из 20 строк начала датафрейма людей с нужным ростом, однако, показывает, что нулевую гипотезу нужно отклонить. Я считаю этот результат неверным, тк выборка сформирована не случайным выбором 20-ти записей. А данные исходного файла могли быть упорядоченно собраны (опрос): допустим, по району проживания или другим показателям, которые косвенно могли повлиять на результат.\n",
    "\n",
    "зы: \"погоняв\" несколько раз выборку по весу из 20-ти человек, обнаружила, что попадаются выборки, которые дают среднее по весу из двадцати человек, удовлетворяя второй гипотезе.\n",
    "\n",
    "Для себя из интереса посмотрела, что с весом людей с небольшим ростом (скорее всего это дети). От минимального значения датафрейма до 160 см. Некоторые манипуляции по проверке данных опустила."
   ]
  },
  {
   "cell_type": "code",
   "execution_count": 68,
   "metadata": {
    "collapsed": true
   },
   "outputs": [],
   "source": [
    "mask2 = ( (data.height >= 150)  & (data.height < 160)) # выборка по росту от 150 до 160 см"
   ]
  },
  {
   "cell_type": "code",
   "execution_count": 69,
   "metadata": {
    "collapsed": true
   },
   "outputs": [],
   "source": [
    "sample_150_160 = sample.loc[mask2]"
   ]
  },
  {
   "cell_type": "code",
   "execution_count": 70,
   "metadata": {},
   "outputs": [
    {
     "data": {
      "text/html": [
       "<div>\n",
       "<style>\n",
       "    .dataframe thead tr:only-child th {\n",
       "        text-align: right;\n",
       "    }\n",
       "\n",
       "    .dataframe thead th {\n",
       "        text-align: left;\n",
       "    }\n",
       "\n",
       "    .dataframe tbody tr th {\n",
       "        vertical-align: top;\n",
       "    }\n",
       "</style>\n",
       "<table border=\"1\" class=\"dataframe\">\n",
       "  <thead>\n",
       "    <tr style=\"text-align: right;\">\n",
       "      <th></th>\n",
       "      <th>height</th>\n",
       "      <th>weight</th>\n",
       "    </tr>\n",
       "  </thead>\n",
       "  <tbody>\n",
       "    <tr>\n",
       "      <th>0</th>\n",
       "      <td>157.522316</td>\n",
       "      <td>49.480865</td>\n",
       "    </tr>\n",
       "    <tr>\n",
       "      <th>1</th>\n",
       "      <td>159.385991</td>\n",
       "      <td>51.932664</td>\n",
       "    </tr>\n",
       "    <tr>\n",
       "      <th>2</th>\n",
       "      <td>159.111747</td>\n",
       "      <td>45.449904</td>\n",
       "    </tr>\n",
       "    <tr>\n",
       "      <th>3</th>\n",
       "      <td>159.019519</td>\n",
       "      <td>58.859136</td>\n",
       "    </tr>\n",
       "    <tr>\n",
       "      <th>4</th>\n",
       "      <td>159.466178</td>\n",
       "      <td>54.362599</td>\n",
       "    </tr>\n",
       "  </tbody>\n",
       "</table>\n",
       "</div>"
      ],
      "text/plain": [
       "       height     weight\n",
       "0  157.522316  49.480865\n",
       "1  159.385991  51.932664\n",
       "2  159.111747  45.449904\n",
       "3  159.019519  58.859136\n",
       "4  159.466178  54.362599"
      ]
     },
     "execution_count": 70,
     "metadata": {},
     "output_type": "execute_result"
    }
   ],
   "source": [
    "sample_150_160 = sample_150_160.reset_index(drop = True)\n",
    "sample_150_160.head()"
   ]
  },
  {
   "cell_type": "code",
   "execution_count": 71,
   "metadata": {},
   "outputs": [
    {
     "data": {
      "image/png": "[encoded data removed]",
      "text/plain": [
       "<matplotlib.figure.Figure at 0x27f7de81b38>"
      ]
     },
     "metadata": {},
     "output_type": "display_data"
    }
   ],
   "source": [
    "sample_150_160_get_20_rand = sample_150_160.loc[[np.random.randint(len(sample_150_160)) for i in range(20)]]\n",
    "stats.probplot( sample_150_160_get_20_rand['weight'], dist=\"norm\", plot=plt )\n",
    "plt.show()"
   ]
  },
  {
   "cell_type": "code",
   "execution_count": 72,
   "metadata": {},
   "outputs": [
    {
     "data": {
      "text/plain": [
       "[54.362599200000005,\n",
       " 49.48086528,\n",
       " 49.53892608,\n",
       " 49.698366480000004,\n",
       " 40.74414372,\n",
       " 50.0166576,\n",
       " 53.7518268,\n",
       " 46.55460096,\n",
       " 43.597918224000004,\n",
       " 53.79705072,\n",
       " 48.16955304,\n",
       " 47.7348228,\n",
       " 39.937874256,\n",
       " 50.7199644,\n",
       " 46.56194928,\n",
       " 44.849731752,\n",
       " 40.74414372,\n",
       " 44.849731752,\n",
       " 49.94761968,\n",
       " 59.11351488]"
      ]
     },
     "execution_count": 72,
     "metadata": {},
     "output_type": "execute_result"
    }
   ],
   "source": [
    "sample_child_rand = sample_150_160_get_20_rand['weight'].tolist()\n",
    "sample_child_rand"
   ]
  },
  {
   "cell_type": "code",
   "execution_count": 74,
   "metadata": {},
   "outputs": [
    {
     "data": {
      "text/plain": [
       "48.20859303120001"
      ]
     },
     "execution_count": 74,
     "metadata": {},
     "output_type": "execute_result"
    }
   ],
   "source": [
    "np.mean(sample_child_rand)"
   ]
  },
  {
   "cell_type": "code",
   "execution_count": 73,
   "metadata": {},
   "outputs": [
    {
     "data": {
      "text/plain": [
       "Ttest_1sampResult(statistic=-8.5170251473593321, pvalue=6.5307635797012466e-08)"
      ]
     },
     "execution_count": 73,
     "metadata": {},
     "output_type": "execute_result"
    }
   ],
   "source": [
    "# t-test на первой выборке random\n",
    "stats.ttest_1samp( sample_child_rand, data['weight'].mean())\n"
   ]
  },
  {
   "cell_type": "markdown",
   "metadata": {},
   "source": [
    "Результат для людей ростом от 150 до 160 см очень нагляден. Их вес точно не равен весу генеральной совокупности и является отдельным распределением весов, не совпадающим с генеральным распределением. Разница в среднем весе этих групп людей статистически значима. Если поразмышлять, то это средний вес детей, который всегда стабильно меньше веса взрослого человека (в серднем рост от 170 см и более)."
   ]
  },
  {
   "cell_type": "code",
   "execution_count": null,
   "metadata": {
    "collapsed": true
   },
   "outputs": [],
   "source": []
  }
 ],
 "metadata": {
  "kernelspec": {
   "display_name": "Python 3",
   "language": "python",
   "name": "python3"
  },
  "language_info": {
   "codemirror_mode": {
    "name": "ipython",
    "version": 3
   },
   "file_extension": ".py",
   "mimetype": "text/x-python",
   "name": "python",
   "nbconvert_exporter": "python",
   "pygments_lexer": "ipython3",
   "version": "3.6.2"
  }
 },
 "nbformat": 4,
 "nbformat_minor": 2
}
